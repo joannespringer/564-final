{
 "cells": [
  {
   "cell_type": "markdown",
   "metadata": {},
   "source": [
    "<center> <h1><b>Analysis of Evolution of the Americans with Disability Act and its Impact on Americans with Disabilities in the United States</b></h1> </center>\n",
    "<center> <h2><b>Final Project - PPOL564 - Fall 2021</b><h2></center>\n",
    "\n",
    "$$\\\\[1in]$$\n",
    "\n",
    "<h4>by: Joanne Lauer</h4>\n",
    "<h4>Georgetown University McCourt School of Public Policy </h4>\n",
    "<h4>December 16, 2021 </h4>\n",
    "<h4>235 words</h4>"
   ]
  },
  {
   "cell_type": "markdown",
   "metadata": {},
   "source": [
    "<h2><b>Introduction</b></h2>\n",
    "<h3>The Americans with Disability Act was signed into law July 26, 1990, as a civil rights act to eliminate discriminat0ion on the basis of disability. Subsequent legislation, the ADA Amendments Act (ADAAA), was signed into law in 2008. From the time of the initial signing of the ADA Act in 1990 to present date, including the ADAAA, various Regulations have been issued regarding the individual Titles covered in the ADA Act. The most recent Regulations were the 2011 Transportation Regulations, 2013 Title 1 Employment Regulations, and finally the last Regulations updated in 2014 to address accessibility of electronic communication. Additioal information on the ADA can be found a www.ada.gov. \n",
    "For the purpose of this study the focus will be on the period from 2011 through 2021. It is important to gain an understanding of the effects that legislation has on its target. <h4>\n",
    "\n",
    "![](https://adata.org/sites/adata.org/files/styles/large/public/images/signing-of-the-ada_1990.jpg?itok=1zwRmaDL)<br> \n",
    "Figure 1 President George H. W. Bush Signing the ADA Act July 26, 1990<br>\n",
    "https://adata.org/sites/adata.org/files/styles/large/public/images/signing-of-the-ada_1990.jpg?itok=1zwRmaDL\n",
    "&nbsp;\n",
    "\n",
    "![](https://adata.org/sites/adata.org/files/styles/large/public/images/20080925adaamendactwh.jpg?itok=2IkG4wGp)<br>\n",
    "Figure 2: President George W. Bush Signing the ADAAA 2008 <br>\n",
    "https://adata.org/sites/adata.org/files/styles/large/public/images/20080925adaamendactwh.jpg?itok=2IkG4wGp\n",
    "&nbsp;\n"
   ]
  },
  {
   "cell_type": "markdown",
   "metadata": {},
   "source": [
    "<h2>Methods:<h2>\n",
    "<h3>The Bureau of Labor and Statistics in conjunction with the Census Bureau collects data as part of the Community Population Survey (CPS) which provides statistics on the US labor force each calendar month. Unfortunately, it was not until June 2008 that questions were added to the CPS to identify individuals with disabilities. This information is now collected on a monthly basis by the Bureau of Labor and Statistics with sponsorghip by the Department of Labor's Office of Disabiltiy Employment. Additional information on the collection mechanisms and the data used in this report can be found on the Bureau of Labor and Statistics website at https://www.bls.gov/data/.<h3> \n",
    "<h3>Due to the lack of consistent data prior to 2011, this report will examine the workforce in the United States from January 2011 through November 2021 for individuals  between the ages of 16 and 64 to compare the employment differences between those individuals reporting a disability and the population reporting no disability. By avoiding data that was collected with different methods attenuation bias and endogeneity should be avoided.<h3>\n",
    "<h3>Individual .xlsx files were downloaded from the Bureu of Labor and Statistics website.  Each file was renamed for ease of identificaiton.  Each file contains the data points for a give metric (eg. labor force working with no disability betwee the ages of 16 and 64). Each .xlsx file was read in and stored using the Pandas package as a Pandas dataframe. The dataframe was the formatted removing extra rows containing descriptive iformation, the columns were renamed to provide month referneces and the rows were renamed to provide year references.  Each dataframe was missing one value for the month of December 2021 and was updated to be represented by a 0 for easy identification. At this point the data was able to be combined and extracted to perform basic data analysis prior to the implementation of machine learning technicques.<h3>\n",
    "   "
   ]
  },
  {
   "cell_type": "markdown",
   "metadata": {},
   "source": [
    "<p style=\"font-size: 80%; font-weight: bold;\">\n",
    "<img src=\"2028_ADAAA.jpg\" title=\"Figure 3\" alt=\"Enter description here\" width=\"480\" height=\"286\" /><br />\n",
    "This is a description of the figure above.\n",
    "</p>"
   ]
  },
  {
   "cell_type": "markdown",
   "metadata": {},
   "source": [
    "<h2>Discussion:<h2>\n",
    "<h2>Retrospective Analysis:<h2> \n",
    "<h3>Entering into this project, the largest challenge was to find data that could be meaningfully analyzed. At every turn, the data proved to be the challenge, yet through purserverence, those challenges were overcome and data was obtained that provided meaningful insight. Obtaining data and drawing conclusions from it was the ultimate goal of the report.\n",
    "<h2>Future Work:<h2>\n",
    "<h3>While working on data wrangling, I stumbled upon https://usa.ipums.org/usa/. IPUMS.org has gathered the Public Use Microdata Samples (PUMS) Census Data including the Current Population Survey (CPS) Data going back to 1962. This data opens up the possiblity of taking a nearly 30 year pre and post ADA Act analysis using CPS data. The prospects of a more complete review of the demographics and the effects of the American's with Disability Act on individuals within the Unitied States who have a disability is very intreging.<h3>\n",
    "\n"
   ]
  }
 ],
 "metadata": {
  "language_info": {
   "name": "python"
  },
  "orig_nbformat": 4
 },
 "nbformat": 4,
 "nbformat_minor": 2
}
